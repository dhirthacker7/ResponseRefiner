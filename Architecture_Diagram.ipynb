{
 "cells": [
  {
   "cell_type": "code",
   "execution_count": 5,
   "metadata": {},
   "outputs": [],
   "source": [
    "from diagrams import Cluster, Diagram, Edge\n",
    "from diagrams.aws.storage import S3\n",
    "from diagrams.custom import Custom\n",
    "from diagrams.onprem.database import Mssql  # Use Mssql instead of SQL\n"
   ]
  },
  {
   "cell_type": "code",
   "execution_count": 17,
   "metadata": {},
   "outputs": [],
   "source": [
    "openai_icon = \"/Users/nishitamatlani/Documents/Big_data/Assignment_1/images/Open_api.png\"\n",
    "streamlit_icon = \"/Users/nishitamatlani/Documents/Big_Data/Assignment_1/images/Streamlit-logo-primary-colormark-darktext.png\"\n",
    "pandas_icon = \"/Users/nishitamatlani/Documents/Big_Data/Assignment_1/images/pandas.png\"\n",
    "gaia_icon = \"/Users/nishitamatlani/Documents/Big_Data/Assignment_1/images/hf-logo.png\"\n",
    "GCP_Bucket = \"/Users/nishitamatlani/Documents/Big_Data/Assignment_1/images/gcp_buckets.png\"\n",
    "cloud_sql = \"/Users/nishitamatlani/Documents/Big_Data/Assignment_1/images/cloud-SQL.png\"\n",
    "download_icon = \"/Users/nishitamatlani/Documents/Big_data/Assignment_1/images/database.png\""
   ]
  },
  {
   "cell_type": "code",
   "execution_count": 23,
   "metadata": {},
   "outputs": [],
   "source": [
    "# Begin horizontal diagram with more spacing\n",
    "with Diagram(\"GAIA Model Evaluation Architecture\", outformat=\"png\", filename=\"gaia_Validator_tool\", graph_attr={\"size\": \"14,8\", \"dpi\": \"200\", \"splines\": \"true\", \"rankdir\": \"LR\"}):  # rankdir set to LR for horizontal layout\n",
    "    \n",
    "    # Data Source Layer\n",
    "    with Cluster(\"Hugging Face\", graph_attr={\"padding\": \"50\"}):  # Increase padding\n",
    "        gaia = Custom(\"GAIA Validation Dataset\", gaia_icon)\n",
    "    \n",
    "\n",
    "    # Data Layer\n",
    "    with Cluster(\"Data Layer\", graph_attr={\"padding\": \"50\"}):  # Increase padding\n",
    "        bucket = Custom(\"Cloud Data Storage\", GCP_Bucket)\n",
    "        postgresql = Custom(\"PostgreSQL DB\\n(Cloud SQL)\", cloud_sql)\n",
    "\n",
    "        # Interactions in Data Layer\n",
    "        bucket << Edge(color=\"blue\", style=\"bold\", minlen=\"2\") >> postgresql\n",
    "\n",
    "    # Application Layer\n",
    "    with Cluster(\"Application Layer\", graph_attr={\"padding\": \"50\"}):  # Increase padding\n",
    "        streamlit = Custom(\"Streamlit App\", streamlit_icon)\n",
    "        pandas = Custom(\"Data Processing\", pandas_icon)\n",
    "\n",
    "        # Connect PostgreSQL directly to Application Layer\n",
    "        postgresql << Edge(color=\"purple\", style=\"solid\", minlen=\"3\") >> pandas\n",
    "        pandas >> Edge(color=\"orange\", style=\"solid\", minlen=\"3\") >> streamlit\n",
    "\n",
    "    # Model Integration Layer\n",
    "    openai = Custom(\"OpenAI Model\", openai_icon)\n",
    "    streamlit << Edge(color=\"dark green\", style=\"dotted\", minlen=\"3\") >> openai\n",
    "\n",
    "    gaia >> Edge(color=\"blue\", style=\"bold\", minlen=\"2\") >> bucket "
   ]
  },
  {
   "cell_type": "code",
   "execution_count": null,
   "metadata": {},
   "outputs": [],
   "source": []
  }
 ],
 "metadata": {
  "kernelspec": {
   "display_name": "base",
   "language": "python",
   "name": "python3"
  },
  "language_info": {
   "codemirror_mode": {
    "name": "ipython",
    "version": 3
   },
   "file_extension": ".py",
   "mimetype": "text/x-python",
   "name": "python",
   "nbconvert_exporter": "python",
   "pygments_lexer": "ipython3",
   "version": "3.12.1"
  }
 },
 "nbformat": 4,
 "nbformat_minor": 2
}
